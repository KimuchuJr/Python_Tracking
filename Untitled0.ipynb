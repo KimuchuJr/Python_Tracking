{
  "nbformat": 4,
  "nbformat_minor": 0,
  "metadata": {
    "colab": {
      "provenance": [],
      "authorship_tag": "ABX9TyNuvRBxndCzTaY9205A2+9E",
      "include_colab_link": true
    },
    "kernelspec": {
      "name": "python3",
      "display_name": "Python 3"
    },
    "language_info": {
      "name": "python"
    }
  },
  "cells": [
    {
      "cell_type": "markdown",
      "metadata": {
        "id": "view-in-github",
        "colab_type": "text"
      },
      "source": [
        "<a href=\"https://colab.research.google.com/github/KimuchuJr/Python_Tracking/blob/main/Untitled0.ipynb\" target=\"_parent\"><img src=\"https://colab.research.google.com/assets/colab-badge.svg\" alt=\"Open In Colab\"/></a>"
      ]
    },
    {
      "cell_type": "code",
      "execution_count": 1,
      "metadata": {
        "colab": {
          "base_uri": "https://localhost:8080/"
        },
        "id": "vwTVja2WjZ78",
        "outputId": "f900a8ac-6383-4802-cb42-083cf35a591b"
      },
      "outputs": [
        {
          "output_type": "stream",
          "name": "stdout",
          "text": [
            "Collecting phonenumbers\n",
            "  Downloading phonenumbers-8.13.52-py2.py3-none-any.whl.metadata (10 kB)\n",
            "Downloading phonenumbers-8.13.52-py2.py3-none-any.whl (2.6 MB)\n",
            "\u001b[?25l   \u001b[90m━━━━━━━━━━━━━━━━━━━━━━━━━━━━━━━━━━━━━━━━\u001b[0m \u001b[32m0.0/2.6 MB\u001b[0m \u001b[31m?\u001b[0m eta \u001b[36m-:--:--\u001b[0m\r\u001b[2K   \u001b[91m━━━━━━━━━━━━━━━━━━━\u001b[0m\u001b[90m╺\u001b[0m\u001b[90m━━━━━━━━━━━━━━━━━━━━\u001b[0m \u001b[32m1.2/2.6 MB\u001b[0m \u001b[31m76.5 MB/s\u001b[0m eta \u001b[36m0:00:01\u001b[0m\r\u001b[2K   \u001b[91m━━━━━━━━━━━━━━━━━━━━━━━━━━━━━━━━━━━━━━━\u001b[0m\u001b[91m╸\u001b[0m \u001b[32m2.6/2.6 MB\u001b[0m \u001b[31m38.5 MB/s\u001b[0m eta \u001b[36m0:00:01\u001b[0m\r\u001b[2K   \u001b[90m━━━━━━━━━━━━━━━━━━━━━━━━━━━━━━━━━━━━━━━━\u001b[0m \u001b[32m2.6/2.6 MB\u001b[0m \u001b[31m26.1 MB/s\u001b[0m eta \u001b[36m0:00:00\u001b[0m\n",
            "\u001b[?25hInstalling collected packages: phonenumbers\n",
            "Successfully installed phonenumbers-8.13.52\n"
          ]
        }
      ],
      "source": [
        "pip install phonenumbers\n"
      ]
    },
    {
      "cell_type": "code",
      "source": [
        "import phonenumbers\n",
        "Trace_number = \"+254112747829\"\n",
        "\n",
        "from phonenumbers import geocoder\n",
        "ch_num = phonenumbers.parse(Trace_number, \"CH\")\n",
        "print(geocoder.description_for_number(ch_num, \"en\"))\n"
      ],
      "metadata": {
        "colab": {
          "base_uri": "https://localhost:8080/"
        },
        "id": "MW1WhUTTj6OG",
        "outputId": "32d81ad2-5929-4302-f918-75f895798a57"
      },
      "execution_count": 7,
      "outputs": [
        {
          "output_type": "stream",
          "name": "stdout",
          "text": [
            "Kenya\n"
          ]
        }
      ]
    },
    {
      "cell_type": "code",
      "source": [
        "from phonenumbers import carrier\n",
        "ch_num = phonenumbers.parse(Trace_number, \"RO\")\n",
        "print(carrier.name_for_number(ch_num, \"en\"))\n",
        "\n",
        "\n"
      ],
      "metadata": {
        "colab": {
          "base_uri": "https://localhost:8080/"
        },
        "id": "14bF6ZLNmL6f",
        "outputId": "e58593fc-f795-447b-f88e-74f04763b435"
      },
      "execution_count": 8,
      "outputs": [
        {
          "output_type": "stream",
          "name": "stdout",
          "text": [
            "Safaricom\n"
          ]
        }
      ]
    },
    {
      "cell_type": "code",
      "source": [
        "import phonenumbers\n",
        "from phonenumbers import geocoder\n",
        "from phonenumbers import carrier\n",
        "import opencage\n",
        "from opencage.geocoder import OpenCageGeocode\n",
        "import folium\n",
        "\n",
        "\n",
        "key = \"your key\" #Geocoder API Key need to paste here \"your key\"\n",
        "number = input(\"please giver your number: \")\n",
        "new_number = phonenumbers.parse(number)\n",
        "location = geocoder.description_for_number(new_number, \"en\")\n",
        "print(location)\n",
        "\n",
        "service_name = carrier.name_for_number(new_number,\"en\")\n",
        "print(service_name)\n",
        "\n",
        "geocoder = OpenCageGeocode(key)\n",
        "query = str(location)\n",
        "result = geocoder.geocode(query)\n",
        "#print(result)\n",
        "\n",
        "lat = result[0]['geometry']['lat']\n",
        "lng = result[0]['geometry']['lng']\n",
        "\n",
        "print(lat,lng)\n",
        "\n",
        "my_map = folium.Map(location=[lat,lng], zoom_start=9)\n",
        "folium.Marker([lat, lng], popup= location).add_to(my_map)\n",
        "\n",
        "my_map.save(\"location.html\")\n",
        "\n",
        "print(\"location tracking completed\")\n",
        "print(\"Thank you\")"
      ],
      "metadata": {
        "colab": {
          "base_uri": "https://localhost:8080/",
          "height": 384
        },
        "id": "2auFRtWEoAYR",
        "outputId": "275664cd-4cc9-4d7b-903b-002478a11df3"
      },
      "execution_count": 9,
      "outputs": [
        {
          "output_type": "error",
          "ename": "ModuleNotFoundError",
          "evalue": "No module named 'opencage'",
          "traceback": [
            "\u001b[0;31m---------------------------------------------------------------------------\u001b[0m",
            "\u001b[0;31mModuleNotFoundError\u001b[0m                       Traceback (most recent call last)",
            "\u001b[0;32m<ipython-input-9-ab5360fb94f4>\u001b[0m in \u001b[0;36m<cell line: 4>\u001b[0;34m()\u001b[0m\n\u001b[1;32m      2\u001b[0m \u001b[0;32mfrom\u001b[0m \u001b[0mphonenumbers\u001b[0m \u001b[0;32mimport\u001b[0m \u001b[0mgeocoder\u001b[0m\u001b[0;34m\u001b[0m\u001b[0;34m\u001b[0m\u001b[0m\n\u001b[1;32m      3\u001b[0m \u001b[0;32mfrom\u001b[0m \u001b[0mphonenumbers\u001b[0m \u001b[0;32mimport\u001b[0m \u001b[0mcarrier\u001b[0m\u001b[0;34m\u001b[0m\u001b[0;34m\u001b[0m\u001b[0m\n\u001b[0;32m----> 4\u001b[0;31m \u001b[0;32mimport\u001b[0m \u001b[0mopencage\u001b[0m\u001b[0;34m\u001b[0m\u001b[0;34m\u001b[0m\u001b[0m\n\u001b[0m\u001b[1;32m      5\u001b[0m \u001b[0;32mfrom\u001b[0m \u001b[0mopencage\u001b[0m\u001b[0;34m.\u001b[0m\u001b[0mgeocoder\u001b[0m \u001b[0;32mimport\u001b[0m \u001b[0mOpenCageGeocode\u001b[0m\u001b[0;34m\u001b[0m\u001b[0;34m\u001b[0m\u001b[0m\n\u001b[1;32m      6\u001b[0m \u001b[0;32mimport\u001b[0m \u001b[0mfolium\u001b[0m\u001b[0;34m\u001b[0m\u001b[0;34m\u001b[0m\u001b[0m\n",
            "\u001b[0;31mModuleNotFoundError\u001b[0m: No module named 'opencage'",
            "",
            "\u001b[0;31m---------------------------------------------------------------------------\u001b[0;32m\nNOTE: If your import is failing due to a missing package, you can\nmanually install dependencies using either !pip or !apt.\n\nTo view examples of installing some common dependencies, click the\n\"Open Examples\" button below.\n\u001b[0;31m---------------------------------------------------------------------------\u001b[0m\n"
          ],
          "errorDetails": {
            "actions": [
              {
                "action": "open_url",
                "actionText": "Open Examples",
                "url": "/notebooks/snippets/importing_libraries.ipynb"
              }
            ]
          }
        }
      ]
    },
    {
      "cell_type": "code",
      "source": [
        "pip install opencage\n"
      ],
      "metadata": {
        "colab": {
          "base_uri": "https://localhost:8080/"
        },
        "id": "vJ_gEy-noIhw",
        "outputId": "a4a2ce87-7ceb-4909-ad78-c565566272f0"
      },
      "execution_count": 10,
      "outputs": [
        {
          "output_type": "stream",
          "name": "stdout",
          "text": [
            "Collecting opencage\n",
            "  Downloading opencage-3.0.3-py3-none-any.whl.metadata (7.7 kB)\n",
            "Requirement already satisfied: Requests>=2.31.0 in /usr/local/lib/python3.10/dist-packages (from opencage) (2.32.3)\n",
            "Collecting backoff>=2.2.1 (from opencage)\n",
            "  Downloading backoff-2.2.1-py3-none-any.whl.metadata (14 kB)\n",
            "Requirement already satisfied: tqdm>=4.66.4 in /usr/local/lib/python3.10/dist-packages (from opencage) (4.67.1)\n",
            "Requirement already satisfied: certifi>=2024.07.04 in /usr/local/lib/python3.10/dist-packages (from opencage) (2024.12.14)\n",
            "Requirement already satisfied: aiohttp>=3.10.5 in /usr/local/lib/python3.10/dist-packages (from opencage) (3.11.10)\n",
            "Requirement already satisfied: aiohappyeyeballs>=2.3.0 in /usr/local/lib/python3.10/dist-packages (from aiohttp>=3.10.5->opencage) (2.4.4)\n",
            "Requirement already satisfied: aiosignal>=1.1.2 in /usr/local/lib/python3.10/dist-packages (from aiohttp>=3.10.5->opencage) (1.3.2)\n",
            "Requirement already satisfied: async-timeout<6.0,>=4.0 in /usr/local/lib/python3.10/dist-packages (from aiohttp>=3.10.5->opencage) (4.0.3)\n",
            "Requirement already satisfied: attrs>=17.3.0 in /usr/local/lib/python3.10/dist-packages (from aiohttp>=3.10.5->opencage) (24.3.0)\n",
            "Requirement already satisfied: frozenlist>=1.1.1 in /usr/local/lib/python3.10/dist-packages (from aiohttp>=3.10.5->opencage) (1.5.0)\n",
            "Requirement already satisfied: multidict<7.0,>=4.5 in /usr/local/lib/python3.10/dist-packages (from aiohttp>=3.10.5->opencage) (6.1.0)\n",
            "Requirement already satisfied: propcache>=0.2.0 in /usr/local/lib/python3.10/dist-packages (from aiohttp>=3.10.5->opencage) (0.2.1)\n",
            "Requirement already satisfied: yarl<2.0,>=1.17.0 in /usr/local/lib/python3.10/dist-packages (from aiohttp>=3.10.5->opencage) (1.18.3)\n",
            "Requirement already satisfied: charset-normalizer<4,>=2 in /usr/local/lib/python3.10/dist-packages (from Requests>=2.31.0->opencage) (3.4.0)\n",
            "Requirement already satisfied: idna<4,>=2.5 in /usr/local/lib/python3.10/dist-packages (from Requests>=2.31.0->opencage) (3.10)\n",
            "Requirement already satisfied: urllib3<3,>=1.21.1 in /usr/local/lib/python3.10/dist-packages (from Requests>=2.31.0->opencage) (2.2.3)\n",
            "Requirement already satisfied: typing-extensions>=4.1.0 in /usr/local/lib/python3.10/dist-packages (from multidict<7.0,>=4.5->aiohttp>=3.10.5->opencage) (4.12.2)\n",
            "Downloading opencage-3.0.3-py3-none-any.whl (22 kB)\n",
            "Downloading backoff-2.2.1-py3-none-any.whl (15 kB)\n",
            "Installing collected packages: backoff, opencage\n",
            "Successfully installed backoff-2.2.1 opencage-3.0.3\n"
          ]
        }
      ]
    },
    {
      "cell_type": "code",
      "source": [
        "import phonenumbers\n",
        "from phonenumbers import geocoder\n",
        "from phonenumbers import carrier\n",
        "import opencage\n",
        "from opencage.geocoder import OpenCageGeocode\n",
        "import folium\n",
        "\n",
        "\n",
        "key = \"your key\" #Geocoder API Key need to paste here \"your key\"\n",
        "number = input(\"please giver your number: \")\n",
        "new_number = phonenumbers.parse(number)\n",
        "location = geocoder.description_for_number(new_number, \"en\")\n",
        "print(location)\n",
        "\n",
        "service_name = carrier.name_for_number(new_number,\"en\")\n",
        "print(service_name)\n",
        "\n",
        "geocoder = OpenCageGeocode(key)\n",
        "query = str(location)\n",
        "result = geocoder.geocode(query)\n",
        "#print(result)\n",
        "\n",
        "lat = result[0]['geometry']['lat']\n",
        "lng = result[0]['geometry']['lng']\n",
        "\n",
        "print(lat,lng)\n",
        "\n",
        "my_map = folium.Map(location=[lat,lng], zoom_start=9)\n",
        "folium.Marker([lat, lng], popup= location).add_to(my_map)\n",
        "\n",
        "my_map.save(\"location.html\")\n",
        "\n",
        "print(\"location tracking completed\")\n",
        "print(\"Thank you\")"
      ],
      "metadata": {
        "colab": {
          "base_uri": "https://localhost:8080/",
          "height": 408
        },
        "id": "Rxrj_jrvoNjv",
        "outputId": "92bde9ba-a8de-45ec-8f2e-f41d1d112ce0"
      },
      "execution_count": 11,
      "outputs": [
        {
          "output_type": "stream",
          "name": "stdout",
          "text": [
            "please giver your number: +254112747829\n",
            "Kenya\n",
            "Safaricom\n"
          ]
        },
        {
          "output_type": "error",
          "ename": "NotAuthorizedError",
          "evalue": "Your API key is not authorized. You may have entered it incorrectly.",
          "traceback": [
            "\u001b[0;31m---------------------------------------------------------------------------\u001b[0m",
            "\u001b[0;31mNotAuthorizedError\u001b[0m                        Traceback (most recent call last)",
            "\u001b[0;32m<ipython-input-11-ab5360fb94f4>\u001b[0m in \u001b[0;36m<cell line: 20>\u001b[0;34m()\u001b[0m\n\u001b[1;32m     18\u001b[0m \u001b[0mgeocoder\u001b[0m \u001b[0;34m=\u001b[0m \u001b[0mOpenCageGeocode\u001b[0m\u001b[0;34m(\u001b[0m\u001b[0mkey\u001b[0m\u001b[0;34m)\u001b[0m\u001b[0;34m\u001b[0m\u001b[0;34m\u001b[0m\u001b[0m\n\u001b[1;32m     19\u001b[0m \u001b[0mquery\u001b[0m \u001b[0;34m=\u001b[0m \u001b[0mstr\u001b[0m\u001b[0;34m(\u001b[0m\u001b[0mlocation\u001b[0m\u001b[0;34m)\u001b[0m\u001b[0;34m\u001b[0m\u001b[0;34m\u001b[0m\u001b[0m\n\u001b[0;32m---> 20\u001b[0;31m \u001b[0mresult\u001b[0m \u001b[0;34m=\u001b[0m \u001b[0mgeocoder\u001b[0m\u001b[0;34m.\u001b[0m\u001b[0mgeocode\u001b[0m\u001b[0;34m(\u001b[0m\u001b[0mquery\u001b[0m\u001b[0;34m)\u001b[0m\u001b[0;34m\u001b[0m\u001b[0;34m\u001b[0m\u001b[0m\n\u001b[0m\u001b[1;32m     21\u001b[0m \u001b[0;31m#print(result)\u001b[0m\u001b[0;34m\u001b[0m\u001b[0;34m\u001b[0m\u001b[0m\n\u001b[1;32m     22\u001b[0m \u001b[0;34m\u001b[0m\u001b[0m\n",
            "\u001b[0;32m/usr/local/lib/python3.10/dist-packages/opencage/geocoder.py\u001b[0m in \u001b[0;36mgeocode\u001b[0;34m(self, query, **kwargs)\u001b[0m\n\u001b[1;32m    185\u001b[0m         \u001b[0mraw_response\u001b[0m \u001b[0;34m=\u001b[0m \u001b[0mkwargs\u001b[0m\u001b[0;34m.\u001b[0m\u001b[0mpop\u001b[0m\u001b[0;34m(\u001b[0m\u001b[0;34m'raw_response'\u001b[0m\u001b[0;34m,\u001b[0m \u001b[0;32mFalse\u001b[0m\u001b[0;34m)\u001b[0m\u001b[0;34m\u001b[0m\u001b[0;34m\u001b[0m\u001b[0m\n\u001b[1;32m    186\u001b[0m         \u001b[0mrequest\u001b[0m \u001b[0;34m=\u001b[0m \u001b[0mself\u001b[0m\u001b[0;34m.\u001b[0m\u001b[0m_parse_request\u001b[0m\u001b[0;34m(\u001b[0m\u001b[0mquery\u001b[0m\u001b[0;34m,\u001b[0m \u001b[0mkwargs\u001b[0m\u001b[0;34m)\u001b[0m\u001b[0;34m\u001b[0m\u001b[0;34m\u001b[0m\u001b[0m\n\u001b[0;32m--> 187\u001b[0;31m         \u001b[0mresponse\u001b[0m \u001b[0;34m=\u001b[0m \u001b[0mself\u001b[0m\u001b[0;34m.\u001b[0m\u001b[0m_opencage_request\u001b[0m\u001b[0;34m(\u001b[0m\u001b[0mrequest\u001b[0m\u001b[0;34m)\u001b[0m\u001b[0;34m\u001b[0m\u001b[0;34m\u001b[0m\u001b[0m\n\u001b[0m\u001b[1;32m    188\u001b[0m \u001b[0;34m\u001b[0m\u001b[0m\n\u001b[1;32m    189\u001b[0m         \u001b[0;32mif\u001b[0m \u001b[0mraw_response\u001b[0m\u001b[0;34m:\u001b[0m\u001b[0;34m\u001b[0m\u001b[0;34m\u001b[0m\u001b[0m\n",
            "\u001b[0;32m/usr/local/lib/python3.10/dist-packages/backoff/_sync.py\u001b[0m in \u001b[0;36mretry\u001b[0;34m(*args, **kwargs)\u001b[0m\n\u001b[1;32m    103\u001b[0m \u001b[0;34m\u001b[0m\u001b[0m\n\u001b[1;32m    104\u001b[0m             \u001b[0;32mtry\u001b[0m\u001b[0;34m:\u001b[0m\u001b[0;34m\u001b[0m\u001b[0;34m\u001b[0m\u001b[0m\n\u001b[0;32m--> 105\u001b[0;31m                 \u001b[0mret\u001b[0m \u001b[0;34m=\u001b[0m \u001b[0mtarget\u001b[0m\u001b[0;34m(\u001b[0m\u001b[0;34m*\u001b[0m\u001b[0margs\u001b[0m\u001b[0;34m,\u001b[0m \u001b[0;34m**\u001b[0m\u001b[0mkwargs\u001b[0m\u001b[0;34m)\u001b[0m\u001b[0;34m\u001b[0m\u001b[0;34m\u001b[0m\u001b[0m\n\u001b[0m\u001b[1;32m    106\u001b[0m             \u001b[0;32mexcept\u001b[0m \u001b[0mexception\u001b[0m \u001b[0;32mas\u001b[0m \u001b[0me\u001b[0m\u001b[0;34m:\u001b[0m\u001b[0;34m\u001b[0m\u001b[0;34m\u001b[0m\u001b[0m\n\u001b[1;32m    107\u001b[0m                 \u001b[0mmax_tries_exceeded\u001b[0m \u001b[0;34m=\u001b[0m \u001b[0;34m(\u001b[0m\u001b[0mtries\u001b[0m \u001b[0;34m==\u001b[0m \u001b[0mmax_tries_value\u001b[0m\u001b[0;34m)\u001b[0m\u001b[0;34m\u001b[0m\u001b[0;34m\u001b[0m\u001b[0m\n",
            "\u001b[0;32m/usr/local/lib/python3.10/dist-packages/opencage/geocoder.py\u001b[0m in \u001b[0;36m_opencage_request\u001b[0;34m(self, params)\u001b[0m\n\u001b[1;32m    271\u001b[0m \u001b[0;34m\u001b[0m\u001b[0m\n\u001b[1;32m    272\u001b[0m         \u001b[0;32mif\u001b[0m \u001b[0mresponse\u001b[0m\u001b[0;34m.\u001b[0m\u001b[0mstatus_code\u001b[0m \u001b[0;34m==\u001b[0m \u001b[0;36m401\u001b[0m\u001b[0;34m:\u001b[0m\u001b[0;34m\u001b[0m\u001b[0;34m\u001b[0m\u001b[0m\n\u001b[0;32m--> 273\u001b[0;31m             \u001b[0;32mraise\u001b[0m \u001b[0mNotAuthorizedError\u001b[0m\u001b[0;34m(\u001b[0m\u001b[0;34m)\u001b[0m\u001b[0;34m\u001b[0m\u001b[0;34m\u001b[0m\u001b[0m\n\u001b[0m\u001b[1;32m    274\u001b[0m \u001b[0;34m\u001b[0m\u001b[0m\n\u001b[1;32m    275\u001b[0m         \u001b[0;32mif\u001b[0m \u001b[0mresponse\u001b[0m\u001b[0;34m.\u001b[0m\u001b[0mstatus_code\u001b[0m \u001b[0;34m==\u001b[0m \u001b[0;36m403\u001b[0m\u001b[0;34m:\u001b[0m\u001b[0;34m\u001b[0m\u001b[0;34m\u001b[0m\u001b[0m\n",
            "\u001b[0;31mNotAuthorizedError\u001b[0m: Your API key is not authorized. You may have entered it incorrectly."
          ]
        }
      ]
    },
    {
      "cell_type": "code",
      "source": [
        "import folium\n",
        "import OpenCageGeocode"
      ],
      "metadata": {
        "colab": {
          "base_uri": "https://localhost:8080/",
          "height": 332
        },
        "id": "GZahp8O0omb3",
        "outputId": "4855a1e8-ef3d-42a6-9cc4-98ed342a4b65"
      },
      "execution_count": 13,
      "outputs": [
        {
          "output_type": "error",
          "ename": "ModuleNotFoundError",
          "evalue": "No module named 'OpenCageGeocode'",
          "traceback": [
            "\u001b[0;31m---------------------------------------------------------------------------\u001b[0m",
            "\u001b[0;31mModuleNotFoundError\u001b[0m                       Traceback (most recent call last)",
            "\u001b[0;32m<ipython-input-13-9dd5886f1c9e>\u001b[0m in \u001b[0;36m<cell line: 2>\u001b[0;34m()\u001b[0m\n\u001b[1;32m      1\u001b[0m \u001b[0;32mimport\u001b[0m \u001b[0mfolium\u001b[0m\u001b[0;34m\u001b[0m\u001b[0;34m\u001b[0m\u001b[0m\n\u001b[0;32m----> 2\u001b[0;31m \u001b[0;32mimport\u001b[0m \u001b[0mOpenCageGeocode\u001b[0m\u001b[0;34m\u001b[0m\u001b[0;34m\u001b[0m\u001b[0m\n\u001b[0m",
            "\u001b[0;31mModuleNotFoundError\u001b[0m: No module named 'OpenCageGeocode'",
            "",
            "\u001b[0;31m---------------------------------------------------------------------------\u001b[0;32m\nNOTE: If your import is failing due to a missing package, you can\nmanually install dependencies using either !pip or !apt.\n\nTo view examples of installing some common dependencies, click the\n\"Open Examples\" button below.\n\u001b[0;31m---------------------------------------------------------------------------\u001b[0m\n"
          ],
          "errorDetails": {
            "actions": [
              {
                "action": "open_url",
                "actionText": "Open Examples",
                "url": "/notebooks/snippets/importing_libraries.ipynb"
              }
            ]
          }
        }
      ]
    },
    {
      "cell_type": "code",
      "source": [
        "!pip install phonenumbers\n",
        "!pip install folium\n",
        "!pip install geocoder\n",
        "!pip install opencage"
      ],
      "metadata": {
        "colab": {
          "base_uri": "https://localhost:8080/"
        },
        "id": "xL5dxCYCpl6n",
        "outputId": "2007a09d-fc95-48f0-aadf-6b5fde104ed5"
      },
      "execution_count": 16,
      "outputs": [
        {
          "output_type": "stream",
          "name": "stdout",
          "text": [
            "Requirement already satisfied: phonenumbers in /usr/local/lib/python3.10/dist-packages (8.13.52)\n",
            "Requirement already satisfied: folium in /usr/local/lib/python3.10/dist-packages (0.19.2)\n",
            "Requirement already satisfied: branca>=0.6.0 in /usr/local/lib/python3.10/dist-packages (from folium) (0.8.1)\n",
            "Requirement already satisfied: jinja2>=2.9 in /usr/local/lib/python3.10/dist-packages (from folium) (3.1.4)\n",
            "Requirement already satisfied: numpy in /usr/local/lib/python3.10/dist-packages (from folium) (1.26.4)\n",
            "Requirement already satisfied: requests in /usr/local/lib/python3.10/dist-packages (from folium) (2.32.3)\n",
            "Requirement already satisfied: xyzservices in /usr/local/lib/python3.10/dist-packages (from folium) (2024.9.0)\n",
            "Requirement already satisfied: MarkupSafe>=2.0 in /usr/local/lib/python3.10/dist-packages (from jinja2>=2.9->folium) (3.0.2)\n",
            "Requirement already satisfied: charset-normalizer<4,>=2 in /usr/local/lib/python3.10/dist-packages (from requests->folium) (3.4.0)\n",
            "Requirement already satisfied: idna<4,>=2.5 in /usr/local/lib/python3.10/dist-packages (from requests->folium) (3.10)\n",
            "Requirement already satisfied: urllib3<3,>=1.21.1 in /usr/local/lib/python3.10/dist-packages (from requests->folium) (2.2.3)\n",
            "Requirement already satisfied: certifi>=2017.4.17 in /usr/local/lib/python3.10/dist-packages (from requests->folium) (2024.12.14)\n",
            "Requirement already satisfied: geocoder in /usr/local/lib/python3.10/dist-packages (1.38.1)\n",
            "Requirement already satisfied: click in /usr/local/lib/python3.10/dist-packages (from geocoder) (8.1.7)\n",
            "Requirement already satisfied: future in /usr/local/lib/python3.10/dist-packages (from geocoder) (1.0.0)\n",
            "Requirement already satisfied: ratelim in /usr/local/lib/python3.10/dist-packages (from geocoder) (0.1.6)\n",
            "Requirement already satisfied: requests in /usr/local/lib/python3.10/dist-packages (from geocoder) (2.32.3)\n",
            "Requirement already satisfied: six in /usr/local/lib/python3.10/dist-packages (from geocoder) (1.17.0)\n",
            "Requirement already satisfied: decorator in /usr/local/lib/python3.10/dist-packages (from ratelim->geocoder) (4.4.2)\n",
            "Requirement already satisfied: charset-normalizer<4,>=2 in /usr/local/lib/python3.10/dist-packages (from requests->geocoder) (3.4.0)\n",
            "Requirement already satisfied: idna<4,>=2.5 in /usr/local/lib/python3.10/dist-packages (from requests->geocoder) (3.10)\n",
            "Requirement already satisfied: urllib3<3,>=1.21.1 in /usr/local/lib/python3.10/dist-packages (from requests->geocoder) (2.2.3)\n",
            "Requirement already satisfied: certifi>=2017.4.17 in /usr/local/lib/python3.10/dist-packages (from requests->geocoder) (2024.12.14)\n",
            "Requirement already satisfied: opencage in /usr/local/lib/python3.10/dist-packages (3.0.3)\n",
            "Requirement already satisfied: Requests>=2.31.0 in /usr/local/lib/python3.10/dist-packages (from opencage) (2.32.3)\n",
            "Requirement already satisfied: backoff>=2.2.1 in /usr/local/lib/python3.10/dist-packages (from opencage) (2.2.1)\n",
            "Requirement already satisfied: tqdm>=4.66.4 in /usr/local/lib/python3.10/dist-packages (from opencage) (4.67.1)\n",
            "Requirement already satisfied: certifi>=2024.07.04 in /usr/local/lib/python3.10/dist-packages (from opencage) (2024.12.14)\n",
            "Requirement already satisfied: aiohttp>=3.10.5 in /usr/local/lib/python3.10/dist-packages (from opencage) (3.11.10)\n",
            "Requirement already satisfied: aiohappyeyeballs>=2.3.0 in /usr/local/lib/python3.10/dist-packages (from aiohttp>=3.10.5->opencage) (2.4.4)\n",
            "Requirement already satisfied: aiosignal>=1.1.2 in /usr/local/lib/python3.10/dist-packages (from aiohttp>=3.10.5->opencage) (1.3.2)\n",
            "Requirement already satisfied: async-timeout<6.0,>=4.0 in /usr/local/lib/python3.10/dist-packages (from aiohttp>=3.10.5->opencage) (4.0.3)\n",
            "Requirement already satisfied: attrs>=17.3.0 in /usr/local/lib/python3.10/dist-packages (from aiohttp>=3.10.5->opencage) (24.3.0)\n",
            "Requirement already satisfied: frozenlist>=1.1.1 in /usr/local/lib/python3.10/dist-packages (from aiohttp>=3.10.5->opencage) (1.5.0)\n",
            "Requirement already satisfied: multidict<7.0,>=4.5 in /usr/local/lib/python3.10/dist-packages (from aiohttp>=3.10.5->opencage) (6.1.0)\n",
            "Requirement already satisfied: propcache>=0.2.0 in /usr/local/lib/python3.10/dist-packages (from aiohttp>=3.10.5->opencage) (0.2.1)\n",
            "Requirement already satisfied: yarl<2.0,>=1.17.0 in /usr/local/lib/python3.10/dist-packages (from aiohttp>=3.10.5->opencage) (1.18.3)\n",
            "Requirement already satisfied: charset-normalizer<4,>=2 in /usr/local/lib/python3.10/dist-packages (from Requests>=2.31.0->opencage) (3.4.0)\n",
            "Requirement already satisfied: idna<4,>=2.5 in /usr/local/lib/python3.10/dist-packages (from Requests>=2.31.0->opencage) (3.10)\n",
            "Requirement already satisfied: urllib3<3,>=1.21.1 in /usr/local/lib/python3.10/dist-packages (from Requests>=2.31.0->opencage) (2.2.3)\n",
            "Requirement already satisfied: typing-extensions>=4.1.0 in /usr/local/lib/python3.10/dist-packages (from multidict<7.0,>=4.5->aiohttp>=3.10.5->opencage) (4.12.2)\n"
          ]
        }
      ]
    },
    {
      "cell_type": "code",
      "source": [
        "import phonenumbers\n",
        "from phonenumbers import geocoder\n",
        "from phonenumbers import carrier\n",
        "import opencage\n",
        "from opencage.geocoder import OpenCageGeocode\n",
        "import folium\n",
        "\n",
        "\n",
        "key = \"bc0fd6a0fea54b118545fe4e2abaa864\" #Geocoder API Key need to paste here \"your key\"\n",
        "number = input(\"please giver your number: \")\n",
        "new_number = phonenumbers.parse(number)\n",
        "location = geocoder.description_for_number(new_number, \"en\")\n",
        "print(location)\n",
        "\n",
        "service_name = carrier.name_for_number(new_number,\"en\")\n",
        "print(service_name)\n",
        "\n",
        "geocoder = OpenCageGeocode(key)\n",
        "query = str(location)\n",
        "result = geocoder.geocode(query)\n",
        "#print(result)\n",
        "\n",
        "lat = result[0]['geometry']['lat']\n",
        "lng = result[0]['geometry']['lng']\n",
        "\n",
        "print(lat,lng)\n",
        "\n",
        "my_map = folium.Map(location=[lat,lng], zoom_start=9)\n",
        "folium.Marker([lat, lng], popup= location).add_to(my_map)\n",
        "\n",
        "my_map.save(\"location.html\")\n",
        "\n",
        "print(\"location tracking completed\")\n",
        "print(\"Thank you\")"
      ],
      "metadata": {
        "colab": {
          "base_uri": "https://localhost:8080/"
        },
        "id": "KrwshM9qqlkI",
        "outputId": "f248b71c-32bd-4a01-c411-5948270206fa"
      },
      "execution_count": 17,
      "outputs": [
        {
          "output_type": "stream",
          "name": "stdout",
          "text": [
            "please giver your number: +254112747829\n",
            "Kenya\n",
            "Safaricom\n",
            "1.4419683 38.4313975\n",
            "location tracking completed\n",
            "Thank you\n"
          ]
        }
      ]
    },
    {
      "cell_type": "code",
      "source": [
        "import phonenumbers\n",
        "from phonenumbers import geocoder\n",
        "from phonenumbers import carrier\n",
        "import opencage\n",
        "from opencage.geocoder import OpenCageGeocode\n",
        "import folium\n",
        "\n",
        "\n",
        "key = \"bc0fd6a0fea54b118545fe4e2abaa864\" #Geocoder API Key need to paste here \"your key\"\n",
        "number = input(\"please giver your number: \")\n",
        "new_number = phonenumbers.parse(number)\n",
        "location = geocoder.description_for_number(new_number, \"en\")\n",
        "print(location)\n",
        "\n",
        "service_name = carrier.name_for_number(new_number,\"en\")\n",
        "print(service_name)\n",
        "\n",
        "geocoder = OpenCageGeocode(key)\n",
        "query = str(location)\n",
        "result = geocoder.geocode(query)\n",
        "#print(result)\n",
        "\n",
        "lat = result[0]['geometry']['lat']\n",
        "lng = result[0]['geometry']['lng']\n",
        "\n",
        "print(lat,lng)\n",
        "\n",
        "my_map = folium.Map(location=[lat,lng], zoom_start=9)\n",
        "folium.Marker([lat, lng], popup= location).add_to(my_map)\n",
        "\n",
        "my_map.save(\"location.html\")\n",
        "\n",
        "print(\"location tracking completed\")\n",
        "print(\"Thank you\")\n"
      ],
      "metadata": {
        "colab": {
          "base_uri": "https://localhost:8080/"
        },
        "id": "vTYT8F49q_n_",
        "outputId": "65fc88d9-a96f-4bbd-ff40-6ee4e5d784e6"
      },
      "execution_count": 18,
      "outputs": [
        {
          "output_type": "stream",
          "name": "stdout",
          "text": [
            "please giver your number: +254746538783\n",
            "Kenya\n",
            "Safaricom\n",
            "1.4419683 38.4313975\n",
            "location tracking completed\n",
            "Thank you\n"
          ]
        }
      ]
    },
    {
      "cell_type": "code",
      "source": [
        "import phonenumbers\n",
        "from phonenumbers import geocoder\n",
        "from phonenumbers import carrier\n",
        "import opencage\n",
        "from opencage.geocoder import OpenCageGeocode\n",
        "import folium\n",
        "\n",
        "\n",
        "number = input(\"please giver your number: \")\n",
        "new_number = phonenumbers.parse(number)\n",
        "location = geocoder.description_for_number(new_number, \"en\")\n",
        "print(location)\n",
        "\n",
        "service_name = carrier.name_for_number(new_number,\"en\")\n",
        "print(service_name)\n",
        "\n",
        "geocoder = OpenCageGeocode(key)\n",
        "query = str(location)\n",
        "result = geocoder.geocode(query)\n",
        "#print(result)\n",
        "\n",
        "lat = result[0]['geometry']['lat']\n",
        "lng = result[0]['geometry']['lng']\n",
        "\n",
        "print(lat,lng)\n",
        "\n",
        "my_map = folium.Map(location=[lat,lng], zoom_start=9)\n",
        "folium.Marker([lat, lng], popup= location).add_to(my_map)\n",
        "\n",
        "my_map.save(\"location.html\")\n",
        "\n",
        "print(\"location tracking completed\")\n",
        "print(\"Thank you\")"
      ],
      "metadata": {
        "colab": {
          "base_uri": "https://localhost:8080/"
        },
        "id": "F8farGFfsIjZ",
        "outputId": "cce7ce4c-5f2f-4471-9ed2-1803cef1c6cb"
      },
      "execution_count": 20,
      "outputs": [
        {
          "output_type": "stream",
          "name": "stdout",
          "text": [
            "please giver your number: +254746538783\n",
            "Kenya\n",
            "Safaricom\n",
            "1.4419683 38.4313975\n",
            "location tracking completed\n",
            "Thank you\n"
          ]
        }
      ]
    },
    {
      "cell_type": "code",
      "source": [
        "import phonenumbers\n",
        "from phonenumbers import geocoder\n",
        "from phonenumbers import carrier\n",
        "from opencage.geocoder import OpenCageGeocode\n",
        "import folium\n",
        "\n",
        "# Geocoder API Key\n",
        "key = \"94e5ab17f5ff4614958d740e321fca72\"  # Replace with your OpenCage API key\n",
        "\n",
        "# Input phone number\n",
        "number = input(\"Please enter your phone number (with country code): \")\n",
        "new_number = phonenumbers.parse(number)\n",
        "\n",
        "# Get location from phone number\n",
        "location = geocoder.description_for_number(new_number, \"en\")\n",
        "print(f\"Location: {location}\")\n",
        "\n",
        "# Get carrier from phone number\n",
        "service_name = carrier.name_for_number(new_number, \"en\")\n",
        "print(f\"Carrier: {service_name}\")\n",
        "\n",
        "# Geocode the location\n",
        "geocoder = OpenCageGeocode(key)\n",
        "query = str(location)\n",
        "result = geocoder.geocode(query)\n",
        "\n",
        "if result:\n",
        "    lat = result[0]['geometry']['lat']\n",
        "    lng = result[0]['geometry']['lng']\n",
        "    print(f\"Latitude: {lat}, Longitude: {lng}\")\n",
        "\n",
        "    # Create map with location\n",
        "    my_map = folium.Map(location=[lat, lng], zoom_start=9)\n",
        "    folium.Marker([lat, lng], popup=location).add_to(my_map)\n",
        "    my_map.save(\"location.html\")\n",
        "    print(\"Location tracking completed. Map saved as 'location.html'.\")\n",
        "else:\n",
        "    print(\"Could not find location data for the given number.\")\n",
        "\n",
        "print(\"Thank you!\")\n"
      ],
      "metadata": {
        "colab": {
          "base_uri": "https://localhost:8080/"
        },
        "id": "dMa3f9NxtL0f",
        "outputId": "0549176e-06eb-49e1-e7e0-f9b3d59c3692"
      },
      "execution_count": 21,
      "outputs": [
        {
          "output_type": "stream",
          "name": "stdout",
          "text": [
            "Please enter your phone number (with country code): +254746538783\n",
            "Location: Kenya\n",
            "Carrier: Safaricom\n",
            "Latitude: 1.4419683, Longitude: 38.4313975\n",
            "Location tracking completed. Map saved as 'location.html'.\n",
            "Thank you!\n"
          ]
        }
      ]
    },
    {
      "cell_type": "code",
      "source": [
        "import phonenumbers\n",
        "from phonenumbers import geocoder\n",
        "from phonenumbers import carrier\n",
        "from opencage.geocoder import OpenCageGeocode\n",
        "import folium\n",
        "\n",
        "# Geocoder API Key\n",
        "key = \"94e5ab17f5ff4614958d740e321fca72\"  # Replace with your OpenCage API key\n",
        "\n",
        "# Input phone number\n",
        "number = input(\"Please enter your phone number (with country code): \")\n",
        "new_number = phonenumbers.parse(number)\n",
        "\n",
        "# Get location from phone number\n",
        "location = geocoder.description_for_number(new_number, \"en\")\n",
        "print(f\"Location: {location}\")\n",
        "\n",
        "# Get carrier from phone number\n",
        "service_name = carrier.name_for_number(new_number, \"en\")\n",
        "print(f\"Carrier: {service_name}\")\n",
        "\n",
        "# Geocode the location\n",
        "geocoder = OpenCageGeocode(key)\n",
        "query = str(location)\n",
        "result = geocoder.geocode(query)\n",
        "\n",
        "if result:\n",
        "    lat = result[0]['geometry']['lat']\n",
        "    lng = result[0]['geometry']['lng']\n",
        "    print(f\"Latitude: {lat}, Longitude: {lng}\")\n",
        "\n",
        "    # Create map with location\n",
        "    my_map = folium.Map(location=[lat, lng], zoom_start=9)\n",
        "    folium.Marker([lat, lng], popup=location).add_to(my_map)\n",
        "    my_map.save(\"location.html\")\n",
        "    print(\"Location tracking completed. Map saved as 'location.html'.\")\n",
        "else:\n",
        "    print(\"Could not find location data for the given number.\")\n",
        "\n",
        "print(\"Thank you!\")\n"
      ],
      "metadata": {
        "colab": {
          "base_uri": "https://localhost:8080/"
        },
        "id": "YYjffn-yudV5",
        "outputId": "65685326-ec1f-4b07-fa5b-83d1e61b69b4"
      },
      "execution_count": 22,
      "outputs": [
        {
          "output_type": "stream",
          "name": "stdout",
          "text": [
            "Please enter your phone number (with country code): +254112747829\n",
            "Location: Kenya\n",
            "Carrier: Safaricom\n",
            "Latitude: 1.4419683, Longitude: 38.4313975\n",
            "Location tracking completed. Map saved as 'location.html'.\n",
            "Thank you!\n"
          ]
        }
      ]
    },
    {
      "cell_type": "code",
      "source": [
        "import phonenumbers\n",
        "from phonenumbers import geocoder\n",
        "from phonenumbers import carrier\n",
        "from opencage.geocoder import OpenCageGeocode\n",
        "import folium\n",
        "\n",
        "# Geocoder API Key\n",
        "key = \"94e5ab17f5ff4614958d740e321fca72\"  # Replace with your OpenCage API key\n",
        "\n",
        "# Input phone details\n",
        "number = input(\"Please enter your phone number (with country code): \")\n",
        "imei = input(\"Please enter the IMEI number: \")  # IMEI is included in the report\n",
        "\n",
        "new_number = phonenumbers.parse(number)\n",
        "\n",
        "# Get location from phone number\n",
        "location = geocoder.description_for_number(new_number, \"en\")\n",
        "print(f\"Location: {location}\")\n",
        "\n",
        "# Get carrier from phone number\n",
        "service_name = carrier.name_for_number(new_number, \"en\")\n",
        "print(f\"Carrier: {service_name}\")\n",
        "\n",
        "# Include IMEI in the output report\n",
        "print(f\"IMEI: {imei}\")\n",
        "\n",
        "# Geocode the location\n",
        "geocoder = OpenCageGeocode(key)\n",
        "query = str(location)\n",
        "result = geocoder.geocode(query)\n",
        "\n",
        "if result:\n",
        "    lat = result[0]['geometry']['lat']\n",
        "    lng = result[0]['geometry']['lng']\n",
        "    print(f\"Latitude: {lat}, Longitude: {lng}\")\n",
        "\n",
        "    # Create map with location\n",
        "    my_map = folium.Map(location=[lat, lng], zoom_start=9)\n",
        "    folium.Marker([lat, lng], popup=f\"Location: {location}\").add_to(my_map)\n",
        "    my_map.save(\"location.html\")\n",
        "    print(\"Location tracking completed. Map saved as 'location.html'.\")\n",
        "else:\n",
        "    print(\"Could not find location data for the given number.\")\n",
        "\n",
        "print(\"Thank you!\")\n"
      ],
      "metadata": {
        "colab": {
          "base_uri": "https://localhost:8080/"
        },
        "id": "ky-qrWE9zAlq",
        "outputId": "fa4d0fb7-5ebe-45f3-a9b8-3b9e7e7152d1"
      },
      "execution_count": 23,
      "outputs": [
        {
          "output_type": "stream",
          "name": "stdout",
          "text": [
            "Please enter your phone number (with country code): +254746538783\n",
            "Please enter the IMEI number: 864748055349913\n",
            "Location: Kenya\n",
            "Carrier: Safaricom\n",
            "IMEI: 864748055349913\n",
            "Latitude: 1.4419683, Longitude: 38.4313975\n",
            "Location tracking completed. Map saved as 'location.html'.\n",
            "Thank you!\n"
          ]
        }
      ]
    }
  ]
}